{
 "cells": [
  {
   "cell_type": "markdown",
   "id": "a5001b8e",
   "metadata": {},
   "source": [
    "# TCGA Cancer Types Case Analysis\n",
    "\n",
    "This notebook analyzes data from the National Cancer Institute's *The Cancer Genome Atlas* (TCGA) program.  \n",
    "TCGA molecularly characterized over 20,000 primary cancer and matched normal samples across 33 cancer types【651701134984701†L32-L41】.  \n",
    "The table below lists cancer types studied by TCGA with the number of cases characterized【333371338791367†L67-L130】.  \n",
    "We'll explore which cancer types have the most cases and visualize the distribution of cases.\n"
   ]
  },
  {
   "cell_type": "code",
   "execution_count": null,
   "id": "8809cc24",
   "metadata": {},
   "outputs": [],
   "source": [
    "\n",
    "import pandas as pd\n",
    "import seaborn as sns\n",
    "import matplotlib.pyplot as plt\n",
    "%matplotlib inline\n"
   ]
  },
  {
   "cell_type": "code",
   "execution_count": null,
   "id": "bb1c385b",
   "metadata": {},
   "outputs": [],
   "source": [
    "\n",
    "# Create DataFrame\n",
    "cancer_df = pd.DataFrame(data)\n",
    "# Sort by descending cases\n",
    "cancer_df_sorted = cancer_df.sort_values('Cases', ascending=False)\n",
    "cancer_df_sorted.head()\n"
   ]
  },
  {
   "cell_type": "code",
   "execution_count": null,
   "id": "cd7f64be",
   "metadata": {},
   "outputs": [],
   "source": [
    "\n",
    "# Visualize top 10 cancer types by number of cases\n",
    "plt.figure(figsize=(12,6))\n",
    "sns.barplot(x='Cases', y='Cancer_Type', data=cancer_df_sorted.head(10), palette='viridis')\n",
    "plt.title('Top 10 TCGA Cancer Types by Number of Cases')\n",
    "plt.xlabel('Number of Cases')\n",
    "plt.ylabel('Cancer Type')\n",
    "plt.tight_layout()\n",
    "plt.show()\n"
   ]
  },
  {
   "cell_type": "code",
   "execution_count": null,
   "id": "9a882b59",
   "metadata": {},
   "outputs": [],
   "source": [
    "\n",
    "# Pie chart of all cancer types case distribution\n",
    "plt.figure(figsize=(10,10))\n",
    "plt.pie(cancer_df['Cases'], labels=cancer_df['Cancer_Type'], autopct='%1.1f%%', startangle=140)\n",
    "plt.title('Distribution of Cases Across TCGA Cancer Types')\n",
    "plt.tight_layout()\n",
    "plt.show()\n"
   ]
  },
  {
   "cell_type": "markdown",
   "id": "b5ce742f",
   "metadata": {},
   "source": [
    "\n",
    "## Insights\n",
    "\n",
    "- **Breast Ductal Carcinoma** has the highest number of characterized cases (778), followed by **Colorectal Adenocarcinoma**, **Glioblastoma Multiforme**, **Ovarian Serous Adenocarcinoma**, and **Lung Adenocarcinoma**.  \n",
    "- **Cholangiocarcinoma** and **Uterine Carcinosarcoma** have the fewest cases, reflecting the rarity of these cancers.  \n",
    "- The distribution chart shows that a handful of cancer types account for a large share of the total cases, while many types have relatively small sample sizes.  \n",
    "\n",
    "These case numbers can guide researchers in choosing well-powered datasets for machine‑learning models and highlight underrepresented cancers where more data collection is needed.\n"
   ]
  }
 ],
 "metadata": {},
 "nbformat": 4,
 "nbformat_minor": 5
}
